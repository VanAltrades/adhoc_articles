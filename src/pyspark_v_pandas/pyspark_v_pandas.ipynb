{
 "cells": [
  {
   "cell_type": "markdown",
   "metadata": {
    "application/vnd.databricks.v1+cell": {
     "cellMetadata": {},
     "inputWidgets": {},
     "nuid": "b505548f-f61a-4b44-ae5d-5de8db5bc409",
     "showTitle": false,
     "title": ""
    }
   },
   "source": [
    "# Data Loading and Processing:"
   ]
  },
  {
   "cell_type": "code",
   "execution_count": null,
   "metadata": {
    "application/vnd.databricks.v1+cell": {
     "cellMetadata": {
      "byteLimit": 2048000,
      "rowLimit": 10000
     },
     "inputWidgets": {},
     "nuid": "2727fa62-4c62-49ac-a5b6-d79b6f612424",
     "showTitle": false,
     "title": ""
    }
   },
   "outputs": [
    {
     "name": "stdout",
     "output_type": "stream",
     "text": [
      "CPU times: user 233 ms, sys: 35.3 ms, total: 268 ms\n",
      "Wall time: 602 ms\n",
      "CPU times: user 7.86 ms, sys: 0 ns, total: 7.86 ms\n",
      "Wall time: 7.81 ms\n"
     ]
    }
   ],
   "source": [
    "import pandas as pd\n",
    "\n",
    "# Read data\n",
    "%time pandas_data = pd.read_csv(\"gs://databricks-bq-2023/spotify_songs.csv\")\n",
    "\n",
    "#Filtering and aggregation\n",
    "%time result = pandas_data[pandas_data['tempo'] > 100]['track_popularity'].mean()"
   ]
  },
  {
   "cell_type": "code",
   "execution_count": null,
   "metadata": {
    "application/vnd.databricks.v1+cell": {
     "cellMetadata": {
      "byteLimit": 2048000,
      "rowLimit": 10000
     },
     "inputWidgets": {},
     "nuid": "9c0d7608-c222-4db9-b2bb-1a45c819eafd",
     "showTitle": false,
     "title": ""
    }
   },
   "outputs": [
    {
     "name": "stdout",
     "output_type": "stream",
     "text": [
      "CPU times: user 15.8 ms, sys: 1.51 ms, total: 17.3 ms\n",
      "Wall time: 3.5 s\n",
      "+----------------+------------------+\n",
      "|track_popularity|        avg(tempo)|\n",
      "+----------------+------------------+\n",
      "|              31| 131.3258065843621|\n",
      "|              85|137.14808771929825|\n",
      "|              65|134.48608211143699|\n",
      "|              53|131.67043750000002|\n",
      "|              78| 132.9451084337349|\n",
      "|              34| 130.5219695945946|\n",
      "|              81|133.16793162393162|\n",
      "|              28| 130.2929683257919|\n",
      "|              76| 128.7724615384615|\n",
      "|              27|128.77763184079603|\n",
      "|              26| 130.8025265700483|\n",
      "|              44|131.31172144846792|\n",
      "|              12| 130.0424919354839|\n",
      "|              91| 141.3078378378378|\n",
      "|              22|131.40969753086424|\n",
      "|              93|124.93379487179489|\n",
      "|              47|135.72169034090913|\n",
      "|               1| 130.5446576354679|\n",
      "|              52| 134.2945726495726|\n",
      "|              13| 131.8744939759036|\n",
      "+----------------+------------------+\n",
      "only showing top 20 rows\n",
      "\n",
      "CPU times: user 49.1 ms, sys: 15.6 ms, total: 64.7 ms\n",
      "Wall time: 2.83 s\n"
     ]
    }
   ],
   "source": [
    "from pyspark.sql import SparkSession\n",
    "\n",
    "# Initialize Spark session\n",
    "spark = SparkSession.builder.appName(\"example\").getOrCreate()\n",
    "\n",
    "# Read data\n",
    "# https://raw.githubusercontent.com/rfordatascience/tidytuesday/master/data/2020/2020-01-21/spotify_songs.csv\n",
    "%time spark_data = spark.read.csv('gs://databricks-bq-2023/spotify_songs.csv', header=True, inferSchema=True)\n",
    "\n",
    "# Filtering and aggregation\n",
    "%time result = spark_data.filter(spark_data['tempo'] > 100).groupBy('track_popularity').agg({'tempo': 'mean'}).show()"
   ]
  },
  {
   "cell_type": "markdown",
   "metadata": {
    "application/vnd.databricks.v1+cell": {
     "cellMetadata": {},
     "inputWidgets": {},
     "nuid": "e9460bb9-d1c8-4447-9e04-c1167262d348",
     "showTitle": false,
     "title": ""
    }
   },
   "source": [
    "# Data Inspection:"
   ]
  },
  {
   "cell_type": "code",
   "execution_count": null,
   "metadata": {
    "application/vnd.databricks.v1+cell": {
     "cellMetadata": {
      "byteLimit": 2048000,
      "rowLimit": 10000
     },
     "inputWidgets": {},
     "nuid": "8949a4f4-f880-4de5-bc9b-0a3250567b42",
     "showTitle": false,
     "title": ""
    }
   },
   "outputs": [
    {
     "name": "stdout",
     "output_type": "stream",
     "text": [
      "CPU times: user 306 µs, sys: 36 µs, total: 342 µs\n",
      "Wall time: 1.43 ms\n",
      "+--------------------+--------------------+----------------+----------------+--------------------+--------------------+------------------------+-------------+--------------------+--------------+-----------------+------------+------+---+--------+----+-----------+------------+----------------+--------+-------+-------+-----------+\n",
      "|            track_id|          track_name|    track_artist|track_popularity|      track_album_id|    track_album_name|track_album_release_date|playlist_name|         playlist_id|playlist_genre|playlist_subgenre|danceability|energy|key|loudness|mode|speechiness|acousticness|instrumentalness|liveness|valence|  tempo|duration_ms|\n",
      "+--------------------+--------------------+----------------+----------------+--------------------+--------------------+------------------------+-------------+--------------------+--------------+-----------------+------------+------+---+--------+----+-----------+------------+----------------+--------+-------+-------+-----------+\n",
      "|6f807x0ima9a1j3VP...|I Don't Care (wit...|      Ed Sheeran|              66|2oCs0DGTsRO98Gh5Z...|I Don't Care (wit...|              2019-06-14|    Pop Remix|37i9dQZF1DXcZDD7c...|           pop|        dance pop|       0.748| 0.916|  6|  -2.634|   1|     0.0583|       0.102|             0.0|  0.0653|  0.518|122.036|   194754.0|\n",
      "|0r7CVbZTWZgbTCYdf...|Memories - Dillon...|        Maroon 5|              67|63rPSO264uRjW1X5E...|Memories (Dillon ...|              2019-12-13|    Pop Remix|37i9dQZF1DXcZDD7c...|           pop|        dance pop|       0.726| 0.815| 11|  -4.969|   1|     0.0373|      0.0724|         0.00421|   0.357|  0.693| 99.972|   162600.0|\n",
      "|1z1Hg7Vb0AhHDiEmn...|All the Time - Do...|    Zara Larsson|              70|1HoSmj2eLcsrR0vE9...|All the Time (Don...|              2019-07-05|    Pop Remix|37i9dQZF1DXcZDD7c...|           pop|        dance pop|       0.675| 0.931|  1|  -3.432|   0|     0.0742|      0.0794|         2.33E-5|    0.11|  0.613|124.008|   176616.0|\n",
      "|75FpbthrwQmzHlBJL...|Call You Mine - K...|The Chainsmokers|              60|1nqYsOef1yKKuGOVc...|Call You Mine - T...|              2019-07-19|    Pop Remix|37i9dQZF1DXcZDD7c...|           pop|        dance pop|       0.718|  0.93|  7|  -3.778|   1|      0.102|      0.0287|         9.43E-6|   0.204|  0.277|121.956|   169093.0|\n",
      "|1e8PAfcKUYoKkxPhr...|Someone You Loved...|   Lewis Capaldi|              69|7m7vv9wlQ4i0LFuJi...|Someone You Loved...|              2019-03-05|    Pop Remix|37i9dQZF1DXcZDD7c...|           pop|        dance pop|        0.65| 0.833|  1|  -4.672|   1|     0.0359|      0.0803|             0.0|  0.0833|  0.725|123.976|   189052.0|\n",
      "+--------------------+--------------------+----------------+----------------+--------------------+--------------------+------------------------+-------------+--------------------+--------------+-----------------+------------+------+---+--------+----+-----------+------------+----------------+--------+-------+-------+-----------+\n",
      "only showing top 5 rows\n",
      "\n",
      "CPU times: user 5.65 ms, sys: 48 µs, total: 5.7 ms\n",
      "Wall time: 1.15 s\n"
     ]
    }
   ],
   "source": [
    "%time pandas_data.head()\n",
    "%time spark_data.show(5)"
   ]
  },
  {
   "cell_type": "code",
   "execution_count": null,
   "metadata": {
    "application/vnd.databricks.v1+cell": {
     "cellMetadata": {
      "byteLimit": 2048000,
      "rowLimit": 10000
     },
     "inputWidgets": {},
     "nuid": "5f6d2c65-e585-4c4b-8716-aad23c908906",
     "showTitle": false,
     "title": ""
    }
   },
   "outputs": [
    {
     "name": "stdout",
     "output_type": "stream",
     "text": [
      "<class 'pandas.core.frame.DataFrame'>\n",
      "RangeIndex: 32833 entries, 0 to 32832\n",
      "Data columns (total 23 columns):\n",
      " #   Column                    Non-Null Count  Dtype  \n",
      "---  ------                    --------------  -----  \n",
      " 0   track_id                  32833 non-null  object \n",
      " 1   track_name                32828 non-null  object \n",
      " 2   track_artist              32828 non-null  object \n",
      " 3   track_popularity          32833 non-null  int64  \n",
      " 4   track_album_id            32833 non-null  object \n",
      " 5   track_album_name          32828 non-null  object \n",
      " 6   track_album_release_date  32833 non-null  object \n",
      " 7   playlist_name             32833 non-null  object \n",
      " 8   playlist_id               32833 non-null  object \n",
      " 9   playlist_genre            32833 non-null  object \n",
      " 10  playlist_subgenre         32833 non-null  object \n",
      " 11  danceability              32833 non-null  float64\n",
      " 12  energy                    32833 non-null  float64\n",
      " 13  key                       32833 non-null  int64  \n",
      " 14  loudness                  32833 non-null  float64\n",
      " 15  mode                      32833 non-null  int64  \n",
      " 16  speechiness               32833 non-null  float64\n",
      " 17  acousticness              32833 non-null  float64\n",
      " 18  instrumentalness          32833 non-null  float64\n",
      " 19  liveness                  32833 non-null  float64\n",
      " 20  valence                   32833 non-null  float64\n",
      " 21  tempo                     32833 non-null  float64\n",
      " 22  duration_ms               32833 non-null  int64  \n",
      "dtypes: float64(9), int64(4), object(10)\n",
      "memory usage: 5.8+ MB\n",
      "CPU times: user 84.7 ms, sys: 3.08 ms, total: 87.8 ms\n",
      "Wall time: 158 ms\n",
      "root\n",
      " |-- track_id: string (nullable = true)\n",
      " |-- track_name: string (nullable = true)\n",
      " |-- track_artist: string (nullable = true)\n",
      " |-- track_popularity: integer (nullable = true)\n",
      " |-- track_album_id: string (nullable = true)\n",
      " |-- track_album_name: string (nullable = true)\n",
      " |-- track_album_release_date: string (nullable = true)\n",
      " |-- playlist_name: string (nullable = true)\n",
      " |-- playlist_id: string (nullable = true)\n",
      " |-- playlist_genre: string (nullable = true)\n",
      " |-- playlist_subgenre: string (nullable = true)\n",
      " |-- danceability: string (nullable = true)\n",
      " |-- energy: string (nullable = true)\n",
      " |-- key: string (nullable = true)\n",
      " |-- loudness: string (nullable = true)\n",
      " |-- mode: string (nullable = true)\n",
      " |-- speechiness: double (nullable = true)\n",
      " |-- acousticness: double (nullable = true)\n",
      " |-- instrumentalness: double (nullable = true)\n",
      " |-- liveness: double (nullable = true)\n",
      " |-- valence: double (nullable = true)\n",
      " |-- tempo: double (nullable = true)\n",
      " |-- duration_ms: double (nullable = true)\n",
      "\n",
      "CPU times: user 1.46 ms, sys: 40 µs, total: 1.5 ms\n",
      "Wall time: 3.95 ms\n"
     ]
    }
   ],
   "source": [
    "%time pandas_data.info()\n",
    "%time spark_data.printSchema()"
   ]
  },
  {
   "cell_type": "code",
   "execution_count": null,
   "metadata": {
    "application/vnd.databricks.v1+cell": {
     "cellMetadata": {
      "byteLimit": 2048000,
      "rowLimit": 10000
     },
     "inputWidgets": {},
     "nuid": "eb64c3e1-f848-489d-b283-8a153de39d95",
     "showTitle": false,
     "title": ""
    }
   },
   "outputs": [
    {
     "name": "stdout",
     "output_type": "stream",
     "text": [
      "CPU times: user 57.9 ms, sys: 2.04 ms, total: 59.9 ms\n",
      "Wall time: 83.5 ms\n",
      "+-------+--------------------+--------------------+------------------+------------------+--------------------+------------------------+------------------------+--------------------+---------------+--------------------+------------------+-------------------+--------------------+-----------------+------------------+--------------------+-------------------+-------------------+-------------------+-------------------+------------------+------------------+------------------+\n",
      "|summary|            track_id|          track_name|      track_artist|  track_popularity|      track_album_id|        track_album_name|track_album_release_date|       playlist_name|    playlist_id|      playlist_genre| playlist_subgenre|       danceability|              energy|              key|          loudness|                mode|        speechiness|       acousticness|   instrumentalness|           liveness|           valence|             tempo|       duration_ms|\n",
      "+-------+--------------------+--------------------+------------------+------------------+--------------------+------------------------+------------------------+--------------------+---------------+--------------------+------------------+-------------------+--------------------+-----------------+------------------+--------------------+-------------------+-------------------+-------------------+-------------------+------------------+------------------+------------------+\n",
      "|  count|               32833|               32833|             32833|             32833|               32833|                   32833|                   32833|               32833|          32833|               32833|             32833|              32833|               32833|            32833|             32833|               32833|              32833|              32833|              32833|              32833|             32833|             32833|             32833|\n",
      "|   mean|                NULL|            Infinity|            1182.5|42.477080985593766|                NULL|                Infinity|      1994.0409703504042|                NULL|           NULL|                NULL|              NULL| 0.6548413911824773|  0.6987159026254852|5.373788742690058|-6.714960343567283|  0.5617789047270955|0.10728242012609311|0.17532551997076137|0.08503226869460623|0.18983626717022573|0.5104382800840634|120.82878928517026|225681.46748989128|\n",
      "| stddev|                NULL|                 NaN|1994.7120166609927|24.984074486186916|                NULL|                     NaN|      12.936924530888342|                NULL|           NULL|                NULL|              NULL|0.14508082931503163| 0.18083972636320184|3.612248908638986|2.9918276920539455|   0.539370414665492|0.10228729983665304|0.21964117970063668|  0.228459929884962|0.16638032885544798|0.2332299215566853|26.993193516792292|59936.563622578535|\n",
      "|    min|0017A6SJgTbfQVU2E...|\"\"\"I TRIED FOR YE...|               !!!|                 0|000YOrgQoB5IiiH95...|                       !|             My Love!\"\"\"| Niedermeier & Wh...|         Si-Tew| Matthias Heilbro...|       John Gazoo\"|                  0|             0.00814|                0|            -0.046|             -10.425|                0.0|                0.0|                0.0|            -11.062|               0.0|               0.0|            0.0116|\n",
      "|    max|7zzZmpw8L66ZPjH1M...| 하드캐리 Hard Carry|          香取慎吾|               100|7zygyMUltFYOvHoT3...|화양연화 The Most Bea...|              2020-01-29|🤩🤪Post Teen Pop...|indie poptimism|                rock|urban contemporary| urban contemporary|House/Electro/Pro...|                9|               edm|progressive elect...|                1.0|              0.994|                8.0|              0.996|               1.0|            239.44|          517810.0|\n",
      "+-------+--------------------+--------------------+------------------+------------------+--------------------+------------------------+------------------------+--------------------+---------------+--------------------+------------------+-------------------+--------------------+-----------------+------------------+--------------------+-------------------+-------------------+-------------------+-------------------+------------------+------------------+------------------+\n",
      "\n",
      "CPU times: user 18.5 ms, sys: 5.53 ms, total: 24 ms\n",
      "Wall time: 19.3 s\n"
     ]
    }
   ],
   "source": [
    "%time pandas_data.describe()\n",
    "%time spark_data.describe().show()"
   ]
  },
  {
   "cell_type": "markdown",
   "metadata": {
    "application/vnd.databricks.v1+cell": {
     "cellMetadata": {},
     "inputWidgets": {},
     "nuid": "e30de1f3-d229-45d3-bbde-d64d653ac5b1",
     "showTitle": false,
     "title": ""
    }
   },
   "source": [
    "# Selection and Filtering:"
   ]
  },
  {
   "cell_type": "code",
   "execution_count": null,
   "metadata": {
    "application/vnd.databricks.v1+cell": {
     "cellMetadata": {
      "byteLimit": 2048000,
      "rowLimit": 10000
     },
     "inputWidgets": {},
     "nuid": "75e051aa-0d06-4673-ac04-78e59d9b3315",
     "showTitle": false,
     "title": ""
    }
   },
   "outputs": [
    {
     "name": "stdout",
     "output_type": "stream",
     "text": [
      "CPU times: user 115 µs, sys: 0 ns, total: 115 µs\n",
      "Wall time: 139 µs\n",
      "CPU times: user 5.98 ms, sys: 0 ns, total: 5.98 ms\n",
      "Wall time: 6.57 ms\n",
      "CPU times: user 2.03 ms, sys: 855 µs, total: 2.89 ms\n",
      "Wall time: 47.1 ms\n",
      "CPU times: user 2.07 ms, sys: 247 µs, total: 2.31 ms\n",
      "Wall time: 15.5 ms\n"
     ]
    },
    {
     "data": {
      "text/plain": [
       "DataFrame[track_id: string, track_name: string, track_artist: string, track_popularity: int, track_album_id: string, track_album_name: string, track_album_release_date: string, playlist_name: string, playlist_id: string, playlist_genre: string, playlist_subgenre: string, danceability: string, energy: string, key: string, loudness: string, mode: string, speechiness: double, acousticness: double, instrumentalness: double, liveness: double, valence: double, tempo: double, duration_ms: double]"
      ]
     },
     "execution_count": 7,
     "metadata": {},
     "output_type": "execute_result"
    }
   ],
   "source": [
    "%time pandas_data['danceability']\n",
    "%time pandas_data[pandas_data['danceability'] > 0.75]\n",
    "\n",
    "%time spark_data.select('danceability')\n",
    "%time spark_data.filter(spark_data['danceability'] > 0.75)"
   ]
  },
  {
   "cell_type": "markdown",
   "metadata": {
    "application/vnd.databricks.v1+cell": {
     "cellMetadata": {},
     "inputWidgets": {},
     "nuid": "cacecad4-9b7d-474a-9684-4cc16e007b19",
     "showTitle": false,
     "title": ""
    }
   },
   "source": [
    "# Adding and Dropping Columns:"
   ]
  },
  {
   "cell_type": "code",
   "execution_count": null,
   "metadata": {
    "application/vnd.databricks.v1+cell": {
     "cellMetadata": {
      "byteLimit": 2048000,
      "rowLimit": 10000
     },
     "inputWidgets": {},
     "nuid": "8ea76195-a4c2-4d12-a1f0-f8c67d00e435",
     "showTitle": false,
     "title": ""
    }
   },
   "outputs": [
    {
     "name": "stdout",
     "output_type": "stream",
     "text": [
      "CPU times: user 2.3 ms, sys: 0 ns, total: 2.3 ms\n",
      "Wall time: 2.65 ms\n",
      "CPU times: user 6.63 ms, sys: 0 ns, total: 6.63 ms\n",
      "Wall time: 7.1 ms\n",
      "CPU times: user 6.31 ms, sys: 0 ns, total: 6.31 ms\n",
      "Wall time: 48.9 ms\n",
      "CPU times: user 2.52 ms, sys: 0 ns, total: 2.52 ms\n",
      "Wall time: 40.8 ms\n"
     ]
    },
    {
     "data": {
      "text/plain": [
       "DataFrame[track_name: string, track_artist: string, track_popularity: int, track_album_id: string, track_album_name: string, track_album_release_date: string, playlist_name: string, playlist_id: string, playlist_genre: string, playlist_subgenre: string, danceability: string, energy: string, key: string, loudness: string, mode: string, speechiness: double, acousticness: double, instrumentalness: double, liveness: double, valence: double, tempo: double, duration_ms: double]"
      ]
     },
     "execution_count": 11,
     "metadata": {},
     "output_type": "execute_result"
    }
   ],
   "source": [
    "%time pandas_data['new_column'] = pandas_data['danceability'] * 2\n",
    "%time pandas_data.drop(columns=['track_id'])\n",
    "\n",
    "from pyspark.sql.functions import col\n",
    "%time spark_data.withColumn('new_column', spark_data['danceability'] * 2)\n",
    "%time spark_data.drop('track_id')"
   ]
  },
  {
   "cell_type": "markdown",
   "metadata": {
    "application/vnd.databricks.v1+cell": {
     "cellMetadata": {},
     "inputWidgets": {},
     "nuid": "d3694eb2-1522-4e68-9b31-0da78c335028",
     "showTitle": false,
     "title": ""
    }
   },
   "source": [
    "# Grouping and Aggregation:"
   ]
  },
  {
   "cell_type": "code",
   "execution_count": null,
   "metadata": {
    "application/vnd.databricks.v1+cell": {
     "cellMetadata": {
      "byteLimit": 2048000,
      "rowLimit": 10000
     },
     "inputWidgets": {},
     "nuid": "36a04da3-3ce1-4f36-b905-9cd8b3b2a331",
     "showTitle": false,
     "title": ""
    }
   },
   "outputs": [
    {
     "name": "stdout",
     "output_type": "stream",
     "text": [
      "CPU times: user 18.1 ms, sys: 1.02 ms, total: 19.2 ms\n",
      "Wall time: 22.1 ms\n",
      "CPU times: user 4.56 ms, sys: 0 ns, total: 4.56 ms\n",
      "Wall time: 113 ms\n"
     ]
    },
    {
     "data": {
      "text/plain": [
       "DataFrame[track_artist: string, avg(danceability): double]"
      ]
     },
     "execution_count": 13,
     "metadata": {},
     "output_type": "execute_result"
    }
   ],
   "source": [
    "%time pandas_data.groupby('track_artist').agg({'danceability': 'mean'})\n",
    "%time spark_data.groupBy('track_artist').agg({'danceability': 'mean'})"
   ]
  },
  {
   "cell_type": "markdown",
   "metadata": {
    "application/vnd.databricks.v1+cell": {
     "cellMetadata": {
      "byteLimit": 2048000,
      "rowLimit": 10000
     },
     "inputWidgets": {},
     "nuid": "c6cfb162-9c35-4f36-8168-82bcf334f1c7",
     "showTitle": false,
     "title": ""
    }
   },
   "source": [
    "# Joins:"
   ]
  },
  {
   "cell_type": "code",
   "execution_count": null,
   "metadata": {
    "application/vnd.databricks.v1+cell": {
     "cellMetadata": {
      "byteLimit": 2048000,
      "rowLimit": 10000
     },
     "inputWidgets": {},
     "nuid": "93bb7dab-d260-4367-8fe7-a51459cfc3a9",
     "showTitle": false,
     "title": ""
    }
   },
   "outputs": [
    {
     "name": "stderr",
     "output_type": "stream",
     "text": [
      "/databricks/spark/python/pyspark/sql/pandas/utils.py:105: UserWarning: The conversion of DecimalType columns is inefficient and may take a long time. Column names: [o_totalprice] If those columns are not necessary, you may consider dropping them or converting to primitive types before the conversion.\n",
      "  warnings.warn(\n",
      "/databricks/spark/python/pyspark/sql/pandas/utils.py:105: UserWarning: The conversion of DecimalType columns is inefficient and may take a long time. Column names: [c_acctbal] If those columns are not necessary, you may consider dropping them or converting to primitive types before the conversion.\n",
      "  warnings.warn(\n"
     ]
    }
   ],
   "source": [
    "orders = spark.read.format('delta').options(header='true').load('dbfs:/databricks-datasets/tpch/delta-001/orders').toPandas()\n",
    "# o_custkey\n",
    "customers = spark.read.format('delta').options(header='true').load('dbfs:/databricks-datasets/tpch/delta-001/customer').toPandas()\n",
    "# c_custkey"
   ]
  },
  {
   "cell_type": "code",
   "execution_count": null,
   "metadata": {
    "application/vnd.databricks.v1+cell": {
     "cellMetadata": {
      "byteLimit": 2048000,
      "rowLimit": 10000
     },
     "inputWidgets": {},
     "nuid": "b293adb9-9fad-4cdc-b95f-d114d6920a60",
     "showTitle": false,
     "title": ""
    }
   },
   "outputs": [
    {
     "name": "stdout",
     "output_type": "stream",
     "text": [
      "CPU times: user 27.7 s, sys: 2.68 s, total: 30.4 s\n",
      "Wall time: 34.4 s\n"
     ]
    }
   ],
   "source": [
    "%time pandas_merged = pd.merge(orders, customers, left_on='o_custkey',right_on=\"c_custkey\")\n",
    "\n",
    "%time spark_merged = orders.join(customers, left_on='o_custkey',right_on=\"c_custkey\")"
   ]
  },
  {
   "cell_type": "markdown",
   "metadata": {
    "application/vnd.databricks.v1+cell": {
     "cellMetadata": {},
     "inputWidgets": {},
     "nuid": "54b74d51-c46a-4475-877d-b2ac28fafa22",
     "showTitle": false,
     "title": ""
    }
   },
   "source": [
    "# User Defined Functions "
   ]
  },
  {
   "cell_type": "code",
   "execution_count": null,
   "metadata": {
    "application/vnd.databricks.v1+cell": {
     "cellMetadata": {
      "byteLimit": 2048000,
      "rowLimit": 10000
     },
     "inputWidgets": {},
     "nuid": "861b51a0-7730-469c-82a5-908e2eda5150",
     "showTitle": false,
     "title": ""
    }
   },
   "outputs": [
    {
     "name": "stdout",
     "output_type": "stream",
     "text": [
      "CPU times: user 13.8 s, sys: 66.9 ms, total: 13.9 s\n",
      "Wall time: 16.1 s\n"
     ]
    }
   ],
   "source": [
    "def to_percentile(x, column):\n",
    "    percentile = (x - column.min()) / (column.max() - column.min()) * 100\n",
    "    return percentile\n",
    "\n",
    "# Assuming pandas_data is your DataFrame\n",
    "%time pandas_data['tempo_percentile'] = pandas_data['tempo'].apply(lambda x: to_percentile(x, pandas_data['tempo']))"
   ]
  },
  {
   "cell_type": "code",
   "execution_count": null,
   "metadata": {
    "application/vnd.databricks.v1+cell": {
     "cellMetadata": {
      "byteLimit": 2048000,
      "rowLimit": 10000
     },
     "inputWidgets": {},
     "nuid": "5a1a2c82-98d2-42bc-b9af-01050f090707",
     "showTitle": false,
     "title": ""
    }
   },
   "outputs": [],
   "source": [
    "from pyspark.sql.functions import udf\n",
    "from pyspark.sql.types import DoubleType\n",
    "from pyspark.sql.window import Window\n",
    "\n",
    "# Define the UDF\n",
    "def to_percentile(x, column):\n",
    "    return ((x - min(column)) / (max(column) - min(column))) * 100\n",
    "\n",
    "# Register the UDF\n",
    "percentile_udf = udf(to_percentile, DoubleType())\n",
    "\n",
    "# Apply the UDF within a Window function\n",
    "w = Window.orderBy(\"tempo\")\n",
    "\n",
    "%time pyspark_data = pyspark_data.withColumn(\"tempo_percentile\", percentile_udf(pyspark_data[\"tempo\"], w))"
   ]
  },
  {
   "cell_type": "code",
   "execution_count": null,
   "metadata": {
    "application/vnd.databricks.v1+cell": {
     "cellMetadata": {},
     "inputWidgets": {},
     "nuid": "ece51a4c-719a-4689-ad68-fa7b03387dba",
     "showTitle": false,
     "title": ""
    }
   },
   "outputs": [],
   "source": []
  }
 ],
 "metadata": {
  "application/vnd.databricks.v1+notebook": {
   "dashboards": [],
   "language": "python",
   "notebookMetadata": {
    "pythonIndentUnit": 4
   },
   "notebookName": "pyspark_v_pandas",
   "widgets": {}
  },
  "kernelspec": {
   "display_name": "venv",
   "language": "python",
   "name": "python3"
  },
  "language_info": {
   "name": "python",
   "version": "3.11.5"
  }
 },
 "nbformat": 4,
 "nbformat_minor": 0
}
